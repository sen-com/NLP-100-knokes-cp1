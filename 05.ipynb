{
  "nbformat": 4,
  "nbformat_minor": 0,
  "metadata": {
    "colab": {
      "name": "05.ipynb",
      "provenance": [],
      "authorship_tag": "ABX9TyNGJXTxN1uqoDGmgxmOX4Az",
      "include_colab_link": true
    },
    "kernelspec": {
      "name": "python3",
      "display_name": "Python 3"
    }
  },
  "cells": [
    {
      "cell_type": "markdown",
      "metadata": {
        "id": "view-in-github",
        "colab_type": "text"
      },
      "source": [
        "<a href=\"https://colab.research.google.com/github/sen-com/NLP-100-knokes-cp1/blob/main/05.ipynb\" target=\"_parent\"><img src=\"https://colab.research.google.com/assets/colab-badge.svg\" alt=\"Open In Colab\"/></a>"
      ]
    },
    {
      "cell_type": "code",
      "metadata": {
        "id": "sbHgCZTaq8Hx"
      },
      "source": [
        "# 与えられたシーケンス（文字列やリストなど）からn-gramを作る関数を作成せよ．この関数を用い，”I am an NLPer”という文から単語bi-gram，文字bi-gramを得よ．\n",
        "def ngram(n, words):\n",
        "  return list(zip(*[words[i:] for i in range(n)]))\n",
        "\n",
        "# wordsのi番目から取り出したn+1個のリストをzip関数で転置してlistに代入している"
      ],
      "execution_count": 107,
      "outputs": []
    },
    {
      "cell_type": "code",
      "metadata": {
        "id": "0rA-ckz6sQIH",
        "outputId": "e41f059d-9ab4-4bb8-c4ad-9e4e3fd18b8b",
        "colab": {
          "base_uri": "https://localhost:8080/"
        }
      },
      "source": [
        "str = 'I am an NLPer'\n",
        "\n",
        "words_bi_gram = ngram(2, str.split())\n",
        "chars_bi_gram = ngram(2, str)\n",
        "\n",
        "print(words_bi_gram)\n",
        "print(chars_bi_gram)"
      ],
      "execution_count": 109,
      "outputs": [
        {
          "output_type": "stream",
          "text": [
            "[('I', 'am'), ('am', 'an'), ('an', 'NLPer')]\n",
            "[('I', ' '), (' ', 'a'), ('a', 'm'), ('m', ' '), (' ', 'a'), ('a', 'n'), ('n', ' '), (' ', 'N'), ('N', 'L'), ('L', 'P'), ('P', 'e'), ('e', 'r')]\n"
          ],
          "name": "stdout"
        }
      ]
    },
    {
      "cell_type": "code",
      "metadata": {
        "id": "hyZ3WCov-Py1"
      },
      "source": [
        "def ngram2(n, words):\n",
        "  return list(words[i:i+n] for i in range(len(words) - n + 1))\n",
        "\n",
        "  # wordsのi〜i+nまでの要素をwordsの要素がなくなるまで繰り返し出力している"
      ],
      "execution_count": 110,
      "outputs": []
    },
    {
      "cell_type": "code",
      "metadata": {
        "id": "WK1lH5AQ-3cJ",
        "outputId": "c50a10da-ec87-4f77-f8de-0f8a8553e5da",
        "colab": {
          "base_uri": "https://localhost:8080/"
        }
      },
      "source": [
        "words_bi_gram2 = ngram2(2, str.split())\n",
        "chars_bi_gram2 = ngram2(2, str)\n",
        "\n",
        "print(words_bi_gram2)\n",
        "print(chars_bi_gram2)"
      ],
      "execution_count": 111,
      "outputs": [
        {
          "output_type": "stream",
          "text": [
            "[['I', 'am'], ['am', 'an'], ['an', 'NLPer']]\n",
            "['I ', ' a', 'am', 'm ', ' a', 'an', 'n ', ' N', 'NL', 'LP', 'Pe', 'er']\n"
          ],
          "name": "stdout"
        }
      ]
    }
  ]
}