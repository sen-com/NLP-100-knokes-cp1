{
  "nbformat": 4,
  "nbformat_minor": 0,
  "metadata": {
    "colab": {
      "name": "03.ipynb",
      "provenance": [],
      "authorship_tag": "ABX9TyP2v3lGBPy3Ix10RNvwcpJY",
      "include_colab_link": true
    },
    "kernelspec": {
      "name": "python3",
      "display_name": "Python 3"
    }
  },
  "cells": [
    {
      "cell_type": "markdown",
      "metadata": {
        "id": "view-in-github",
        "colab_type": "text"
      },
      "source": [
        "<a href=\"https://colab.research.google.com/github/sen-com/NLP-100-knokes-cp1/blob/main/03.ipynb\" target=\"_parent\"><img src=\"https://colab.research.google.com/assets/colab-badge.svg\" alt=\"Open In Colab\"/></a>"
      ]
    },
    {
      "cell_type": "code",
      "metadata": {
        "id": "cCSwC6prIuDQ"
      },
      "source": [
        "# “Now I need a drink, alcoholic of course, after the heavy lectures involving quantum mechanics.”という文を単語に分解し，各単語の（アルファベットの）文字数を先頭から出現順に並べたリストを作成せよ．\n",
        "words = \"Now I need a drink, alcoholic of course, after the heavy lectures involving quantum mechanics.\""
      ],
      "execution_count": 2,
      "outputs": []
    },
    {
      "cell_type": "code",
      "metadata": {
        "id": "O034x-uuJCAm",
        "outputId": "edcf89d8-db9f-47e2-8375-58df75d8d2ed",
        "colab": {
          "base_uri": "https://localhost:8080/"
        }
      },
      "source": [
        "words.split()"
      ],
      "execution_count": 3,
      "outputs": [
        {
          "output_type": "execute_result",
          "data": {
            "text/plain": [
              "['Now',\n",
              " 'I',\n",
              " 'need',\n",
              " 'a',\n",
              " 'drink,',\n",
              " 'alcoholic',\n",
              " 'of',\n",
              " 'course,',\n",
              " 'after',\n",
              " 'the',\n",
              " 'heavy',\n",
              " 'lectures',\n",
              " 'involving',\n",
              " 'quantum',\n",
              " 'mechanics.']"
            ]
          },
          "metadata": {
            "tags": []
          },
          "execution_count": 3
        }
      ]
    },
    {
      "cell_type": "code",
      "metadata": {
        "id": "1eQucXwkJOVs"
      },
      "source": [
        "import re\n",
        "words_re = re.sub('[,\\.]', '', words)"
      ],
      "execution_count": 5,
      "outputs": []
    },
    {
      "cell_type": "code",
      "metadata": {
        "id": "VeOUO0khJnVi"
      },
      "source": [
        "word_sp = words_re.split()\n"
      ],
      "execution_count": 11,
      "outputs": []
    },
    {
      "cell_type": "code",
      "metadata": {
        "id": "YXH9rMVzJxva"
      },
      "source": [
        "ans = [len(i) for i in word_sp]"
      ],
      "execution_count": 13,
      "outputs": []
    },
    {
      "cell_type": "code",
      "metadata": {
        "id": "0wqpOnIjJ7Qm",
        "outputId": "73272ba2-274b-40e2-a744-20c7fb71ddda",
        "colab": {
          "base_uri": "https://localhost:8080/"
        }
      },
      "source": [
        "ans"
      ],
      "execution_count": 16,
      "outputs": [
        {
          "output_type": "execute_result",
          "data": {
            "text/plain": [
              "[3, 1, 4, 1, 5, 9, 2, 6, 5, 3, 5, 8, 9, 7, 9]"
            ]
          },
          "metadata": {
            "tags": []
          },
          "execution_count": 16
        }
      ]
    }
  ]
}