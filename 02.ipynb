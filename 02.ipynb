{
  "nbformat": 4,
  "nbformat_minor": 0,
  "metadata": {
    "colab": {
      "name": "02.ipynb",
      "provenance": [],
      "authorship_tag": "ABX9TyPtDxGH+vPN6qqYqf8p04yv",
      "include_colab_link": true
    },
    "kernelspec": {
      "name": "python3",
      "display_name": "Python 3"
    }
  },
  "cells": [
    {
      "cell_type": "markdown",
      "metadata": {
        "id": "view-in-github",
        "colab_type": "text"
      },
      "source": [
        "<a href=\"https://colab.research.google.com/github/sen-com/NLP-100-knokes-cp1/blob/main/02.ipynb\" target=\"_parent\"><img src=\"https://colab.research.google.com/assets/colab-badge.svg\" alt=\"Open In Colab\"/></a>"
      ]
    },
    {
      "cell_type": "code",
      "metadata": {
        "id": "GX6kamlgHfm9"
      },
      "source": [
        "word = \"パタトクカシーー\"\n",
        "\n",
        "str1 = word[::2]\n",
        "str2 = word[1::2]"
      ],
      "execution_count": 2,
      "outputs": []
    },
    {
      "cell_type": "code",
      "metadata": {
        "id": "GA5uVJ6PH2nM",
        "outputId": "16f2a088-8166-43be-ce70-940b417d671e",
        "colab": {
          "base_uri": "https://localhost:8080/"
        }
      },
      "source": [
        "word_join = ''.join([i + j for i, j in zip(str1,str2)])\n",
        "print(word_join)"
      ],
      "execution_count": 3,
      "outputs": [
        {
          "output_type": "stream",
          "text": [
            "パタトクカシーー\n"
          ],
          "name": "stdout"
        }
      ]
    }
  ]
}