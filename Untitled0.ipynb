{
  "nbformat": 4,
  "nbformat_minor": 0,
  "metadata": {
    "colab": {
      "name": "Untitled0.ipynb",
      "provenance": [],
      "authorship_tag": "ABX9TyN9veBw7v2N50wzVidhYHcN",
      "include_colab_link": true
    },
    "kernelspec": {
      "name": "python3",
      "display_name": "Python 3"
    }
  },
  "cells": [
    {
      "cell_type": "markdown",
      "metadata": {
        "id": "view-in-github",
        "colab_type": "text"
      },
      "source": [
        "<a href=\"https://colab.research.google.com/github/sen-com/NLP-100-knokes-cp1/blob/main/Untitled0.ipynb\" target=\"_parent\"><img src=\"https://colab.research.google.com/assets/colab-badge.svg\" alt=\"Open In Colab\"/></a>"
      ]
    },
    {
      "cell_type": "code",
      "metadata": {
        "id": "yG8hAMZzVn7q"
      },
      "source": [
        "# スペースで区切られた単語列に対して，各単語の先頭と末尾の文字は残し，それ以外の文字の順序をランダムに並び替えるプログラムを作成せよ．\n",
        "# ただし，長さが４以下の単語は並び替えないこととする．\n",
        "# 適当な英語の文（例えば”I couldn’t believe that I could actually understand what I was reading : the phenomenal power of the human mind .”）を与え，\n",
        "# その実行結果を確認せよ．\n",
        "str ='I couldn’t believe that I could actually understand what I was reading : the phenomenal power of the human mind .'"
      ],
      "execution_count": 3,
      "outputs": []
    },
    {
      "cell_type": "code",
      "metadata": {
        "id": "ReLnumhwXJDu",
        "outputId": "843d9319-05cd-4496-b8c6-d4d47e94e66d",
        "colab": {
          "base_uri": "https://localhost:8080/"
        }
      },
      "source": [
        "import random as rm\n",
        "def shuffle(words):\n",
        "  result = []\n",
        "  for word in words.split():\n",
        "    if len(word) > 4:\n",
        "      word = word[0] + ''.join(rm.sample(word[1:-1], len(word)-2)) + word[-1]\n",
        "    result.append(word)\n",
        "  return ' '.join(result)\n",
        "print(shuffle(str))"
      ],
      "execution_count": 10,
      "outputs": [
        {
          "output_type": "stream",
          "text": [
            "I coln’udt beveile that I cluod aaclltuy uernnstdad what I was rendiag : the pnahomneel pweor of the human mind .\n"
          ],
          "name": "stdout"
        }
      ]
    }
  ]
}