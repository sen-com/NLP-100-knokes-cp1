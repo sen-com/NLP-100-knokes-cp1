{
  "nbformat": 4,
  "nbformat_minor": 0,
  "metadata": {
    "colab": {
      "name": "08.ipynb",
      "provenance": [],
      "authorship_tag": "ABX9TyNWi4uZzzW4g+TaR+2/2b8J",
      "include_colab_link": true
    },
    "kernelspec": {
      "name": "python3",
      "display_name": "Python 3"
    }
  },
  "cells": [
    {
      "cell_type": "markdown",
      "metadata": {
        "id": "view-in-github",
        "colab_type": "text"
      },
      "source": [
        "<a href=\"https://colab.research.google.com/github/sen-com/NLP-100-knokes-cp1/blob/main/08.ipynb\" target=\"_parent\"><img src=\"https://colab.research.google.com/assets/colab-badge.svg\" alt=\"Open In Colab\"/></a>"
      ]
    },
    {
      "cell_type": "code",
      "metadata": {
        "id": "xR5ZPvuuRZT0"
      },
      "source": [
        "# 与えられた文字列の各文字を，以下の仕様で変換する関数cipherを実装せよ．\n",
        "# 英小文字ならば(219 - 文字コード)の文字に置換\n",
        "# その他の文字はそのまま出力\n",
        "# この関数を用い，英語のメッセージを暗号化・復号化せよ．\n",
        "def cipher(str):\n",
        "  rep = [chr(219 - ord(x)) if x.islower() else x for x in str]\n",
        "  return ''.join(rep)"
      ],
      "execution_count": 11,
      "outputs": []
    },
    {
      "cell_type": "code",
      "metadata": {
        "id": "w7DvA1biSBCX"
      },
      "source": [
        "message = 'the quick brown fox jumps over the lazy dog'\n",
        "message = cipher(message)"
      ],
      "execution_count": 12,
      "outputs": []
    },
    {
      "cell_type": "code",
      "metadata": {
        "id": "UbiAPgoES_z_",
        "outputId": "238fa2ef-cb53-46d0-bea9-eac4321b80eb",
        "colab": {
          "base_uri": "https://localhost:8080/"
        }
      },
      "source": [
        "print('暗号化: ', message)\n",
        "message = cipher(message)\n",
        "print('復号化: ', message)"
      ],
      "execution_count": 13,
      "outputs": [
        {
          "output_type": "stream",
          "text": [
            "暗号化:  gsv jfrxp yildm ulc qfnkh levi gsv ozab wlt\n",
            "復号化:  the quick brown fox jumps over the lazy dog\n"
          ],
          "name": "stdout"
        }
      ]
    }
  ]
}