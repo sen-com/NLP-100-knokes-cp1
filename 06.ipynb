{
  "nbformat": 4,
  "nbformat_minor": 0,
  "metadata": {
    "colab": {
      "name": "06.ipynb",
      "provenance": [],
      "authorship_tag": "ABX9TyMeCRFbvSeY4jML1SBcyQIN",
      "include_colab_link": true
    },
    "kernelspec": {
      "name": "python3",
      "display_name": "Python 3"
    }
  },
  "cells": [
    {
      "cell_type": "markdown",
      "metadata": {
        "id": "view-in-github",
        "colab_type": "text"
      },
      "source": [
        "<a href=\"https://colab.research.google.com/github/sen-com/NLP-100-knokes-cp1/blob/main/06.ipynb\" target=\"_parent\"><img src=\"https://colab.research.google.com/assets/colab-badge.svg\" alt=\"Open In Colab\"/></a>"
      ]
    },
    {
      "cell_type": "code",
      "metadata": {
        "id": "r0jnkPyZEoDt"
      },
      "source": [
        "# paraparaparadise”と”paragraph”に含まれる文字bi-gramの集合を，\n",
        "# それぞれ, XとYとして求め，XとYの和集合，積集合，差集合を求めよ．\n",
        "# さらに，’se’というbi-gramがXおよびYに含まれるかどうかを調べよ．\n",
        "def ngram(n, words):\n",
        "  return list(tuple(words[i:i+n]) for i in range(len(words) - n + 1))\n",
        "\n",
        "  # wordsのi〜i+nまでの要素をwordsの要素がなくなるまで繰り返し出力している"
      ],
      "execution_count": 13,
      "outputs": []
    },
    {
      "cell_type": "code",
      "metadata": {
        "id": "qWRKcNOwGJjT",
        "outputId": "742cd8cc-d542-44e4-9df0-70e6c4fa8d4d",
        "colab": {
          "base_uri": "https://localhost:8080/"
        }
      },
      "source": [
        "X"
      ],
      "execution_count": 19,
      "outputs": [
        {
          "output_type": "execute_result",
          "data": {
            "text/plain": [
              "{('a', 'd'),\n",
              " ('a', 'p'),\n",
              " ('a', 'r'),\n",
              " ('d', 'i'),\n",
              " ('i', 's'),\n",
              " ('p', 'a'),\n",
              " ('r', 'a'),\n",
              " ('s', 'e')}"
            ]
          },
          "metadata": {
            "tags": []
          },
          "execution_count": 19
        }
      ]
    },
    {
      "cell_type": "code",
      "metadata": {
        "id": "YL9pxgRzE4Ue"
      },
      "source": [
        "str1 = 'paraparaparadise'\n",
        "str2 = 'paragraph'\n",
        "X = set(ngram(2, str1))\n",
        "Y = set(ngram(2, str2))"
      ],
      "execution_count": 18,
      "outputs": []
    },
    {
      "cell_type": "code",
      "metadata": {
        "id": "m04t80zmFUtj"
      },
      "source": [
        "union = X | Y"
      ],
      "execution_count": 20,
      "outputs": []
    },
    {
      "cell_type": "code",
      "metadata": {
        "id": "_y0bYyb4FVhR"
      },
      "source": [
        "class set_cal:\n",
        "  def __init__(self):\n",
        "    self.X = {}\n",
        "    self.Y = {}\n",
        "\n",
        "  def setSet(self, X, Y):\n",
        "    self.X = X\n",
        "    self.Y = Y\n",
        "\n",
        "  def union(self):\n",
        "    return self.X | self.Y\n",
        "    \n",
        "  def intersection(self):\n",
        "    return self.X & self.Y\n",
        "    \n",
        "  def difference(self):\n",
        "    return self.X - self.Y\n",
        "\n",
        "  def searchX(self, str1, str2):\n",
        "    return {(str1,str2)} <= self.X\n",
        "  \n",
        "  def searchY(self, str1, str2):\n",
        "    return {(str1,str2)} <= self.Y"
      ],
      "execution_count": 32,
      "outputs": []
    },
    {
      "cell_type": "code",
      "metadata": {
        "id": "ccAhDyXMJJkS"
      },
      "source": [
        "mySet = set_cal()\n",
        "mySet.setSet(X, Y)"
      ],
      "execution_count": 33,
      "outputs": []
    },
    {
      "cell_type": "code",
      "metadata": {
        "id": "UloqVzB1Jowv",
        "outputId": "6f754e5f-dec1-4c4a-801b-223f7bdef311",
        "colab": {
          "base_uri": "https://localhost:8080/"
        }
      },
      "source": [
        "print(mySet.union())\n",
        "print(mySet.intersection())\n",
        "print(mySet.difference())\n",
        "print(mySet.searchX('s', 'e'))\n",
        "print(mySet.searchY('s', 'e'))"
      ],
      "execution_count": 34,
      "outputs": [
        {
          "output_type": "stream",
          "text": [
            "{('s', 'e'), ('a', 'g'), ('p', 'a'), ('g', 'r'), ('a', 'r'), ('a', 'p'), ('r', 'a'), ('p', 'h'), ('a', 'd'), ('i', 's'), ('d', 'i')}\n",
            "{('r', 'a'), ('p', 'a'), ('a', 'p'), ('a', 'r')}\n",
            "{('s', 'e'), ('d', 'i'), ('a', 'd'), ('i', 's')}\n",
            "True\n",
            "False\n"
          ],
          "name": "stdout"
        }
      ]
    }
  ]
}